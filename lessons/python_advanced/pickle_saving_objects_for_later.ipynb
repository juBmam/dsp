{
 "cells": [
  {
   "cell_type": "code",
   "execution_count": null,
   "metadata": {},
   "outputs": [],
   "source": [
    "import sys\n",
    "print(\"Python Version:\", sys.version, '\\n')"
   ]
  },
  {
   "cell_type": "markdown",
   "metadata": {},
   "source": [
    "# Pickle: Saving Objects for Later"
   ]
  },
  {
   "cell_type": "markdown",
   "metadata": {},
   "source": [
    "Often in data science, we'll create some model or some version of our data and want to use it later. We have many options - we can save the coefficients, or save the data to csv, or...\n",
    "\n",
    "Actually, we don't have that many options. \n",
    "\n",
    "One way to overcome that is to save the python object to a file as a serialized object. That means we convert the entire object to a bunch of bytes, save those bytes into a file, and then have the ability to unpack those bytes back into their original format later. \n",
    "\n",
    "This is done by a module called `pickle`. Let's see it in action."
   ]
  },
  {
   "cell_type": "code",
   "execution_count": 1,
   "metadata": {},
   "outputs": [],
   "source": [
    "import pickle\n",
    "import random\n",
    "\n",
    "lots_of_noise = {\n",
    "    'CA': [random.randint(0,65) for _ in range(100)],\n",
    "    'IL': [random.randint(0,65) for _ in range(50)],\n",
    "    'NY': [random.randint(0,65) for _ in range(90)],\n",
    "    'WA': [random.randint(0,65) for _ in range(33)]\n",
    "}"
   ]
  },
  {
   "cell_type": "code",
   "execution_count": 2,
   "metadata": {},
   "outputs": [
    {
     "name": "stdout",
     "output_type": "stream",
     "text": [
      "{'CA': [52, 50, 58, 33, 17, 60, 6, 1, 45, 23, 30, 21, 10, 0, 26, 14, 39, 17, 63, 2, 15, 42, 31, 13, 0, 43, 35, 63, 23, 20, 22, 12, 16, 11, 11, 27, 61, 24, 38, 40, 16, 20, 14, 24, 24, 32, 10, 59, 3, 46, 3, 62, 23, 34, 65, 38, 49, 45, 7, 33, 0, 62, 2, 23, 43, 50, 19, 45, 5, 25, 14, 52, 35, 2, 8, 23, 20, 51, 14, 59, 15, 61, 16, 60, 64, 23, 1, 27, 59, 35, 6, 15, 41, 53, 27, 33, 3, 60, 40, 26], 'IL': [25, 24, 45, 18, 58, 4, 18, 1, 16, 17, 12, 20, 19, 57, 60, 13, 62, 33, 13, 62, 64, 59, 58, 10, 4, 56, 62, 6, 1, 62, 9, 41, 25, 6, 56, 28, 32, 46, 25, 7, 24, 24, 6, 53, 12, 64, 49, 40, 9, 38], 'NY': [45, 19, 23, 46, 6, 30, 64, 51, 62, 36, 31, 23, 49, 20, 11, 39, 36, 39, 46, 37, 37, 18, 44, 8, 47, 22, 2, 31, 49, 29, 63, 50, 21, 65, 49, 42, 39, 56, 50, 33, 28, 21, 1, 37, 23, 12, 28, 37, 45, 56, 22, 25, 56, 18, 21, 21, 15, 33, 17, 30, 23, 61, 40, 9, 45, 12, 46, 6, 7, 23, 57, 34, 61, 25, 2, 53, 65, 65, 10, 31, 8, 55, 17, 55, 23, 38, 41, 3, 49, 35], 'WA': [1, 14, 45, 63, 57, 36, 35, 56, 17, 47, 57, 49, 44, 45, 27, 14, 8, 7, 3, 32, 48, 28, 43, 47, 0, 24, 19, 2, 16, 5, 62, 56, 38]}\n"
     ]
    }
   ],
   "source": [
    "print(lots_of_noise)"
   ]
  },
  {
   "cell_type": "code",
   "execution_count": 3,
   "metadata": {},
   "outputs": [
    {
     "name": "stdout",
     "output_type": "stream",
     "text": [
      "Variable        Type      Data/Info\n",
      "-----------------------------------\n",
      "lots_of_noise   dict      n=4\n",
      "pickle          module    <module 'pickle' from '/U<...>lib/python3.7/pickle.py'>\n",
      "random          module    <module 'random' from '/U<...>lib/python3.7/random.py'>\n"
     ]
    }
   ],
   "source": [
    "whos"
   ]
  },
  {
   "cell_type": "markdown",
   "metadata": {},
   "source": [
    "We can see in this `whos` command that the object `lots_of_noise` exists and is a `dict` with 4 keys. Nice. Now let's look at our file system and verify that there isn't a file called `noise.pickle`."
   ]
  },
  {
   "cell_type": "code",
   "execution_count": 4,
   "metadata": {},
   "outputs": [
    {
     "name": "stdout",
     "output_type": "stream",
     "text": [
      "Intro_to_Git.pdf                       \u001b[34mmacvim-master\u001b[m\u001b[m\r\n",
      "advanced_python_datatypes.ipynb        pickle_saving_objects_for_later.ipynb\r\n",
      "deep_and_shallow_copy.ipynb            python_review_and_best_practices.ipynb\r\n",
      "importing_example.ipynb                thinkstats2.pdf\r\n"
     ]
    }
   ],
   "source": [
    "!ls"
   ]
  },
  {
   "cell_type": "markdown",
   "metadata": {},
   "source": [
    "Okay, now we're ready to create a file and write the bytes to it. To do this with `pickle`, we use python's read-write streamer `open` and create a writable-binary (`wb`) file. We'll then use `pickle.dump` to put an object into that file as a string of bytes."
   ]
  },
  {
   "cell_type": "code",
   "execution_count": 5,
   "metadata": {},
   "outputs": [],
   "source": [
    "with open('noise.pickle', 'wb') as to_write:\n",
    "    pickle.dump(lots_of_noise, to_write)"
   ]
  },
  {
   "cell_type": "code",
   "execution_count": 6,
   "metadata": {},
   "outputs": [
    {
     "name": "stdout",
     "output_type": "stream",
     "text": [
      "Intro_to_Git.pdf                       noise.pickle\r\n",
      "advanced_python_datatypes.ipynb        pickle_saving_objects_for_later.ipynb\r\n",
      "deep_and_shallow_copy.ipynb            python_review_and_best_practices.ipynb\r\n",
      "importing_example.ipynb                thinkstats2.pdf\r\n",
      "\u001b[34mmacvim-master\u001b[m\u001b[m\r\n"
     ]
    }
   ],
   "source": [
    "!ls"
   ]
  },
  {
   "cell_type": "markdown",
   "metadata": {},
   "source": [
    "Now let's delete `lots_of_noise` and prove to ourselves it doesn't exist in Python's memory anymore."
   ]
  },
  {
   "cell_type": "code",
   "execution_count": 7,
   "metadata": {},
   "outputs": [],
   "source": [
    "del lots_of_noise"
   ]
  },
  {
   "cell_type": "code",
   "execution_count": 8,
   "metadata": {},
   "outputs": [
    {
     "name": "stdout",
     "output_type": "stream",
     "text": [
      "Variable   Type              Data/Info\n",
      "--------------------------------------\n",
      "pickle     module            <module 'pickle' from '/U<...>lib/python3.7/pickle.py'>\n",
      "random     module            <module 'random' from '/U<...>lib/python3.7/random.py'>\n",
      "to_write   BufferedWriter    <_io.BufferedWriter name='noise.pickle'>\n"
     ]
    }
   ],
   "source": [
    "whos"
   ]
  },
  {
   "cell_type": "code",
   "execution_count": 9,
   "metadata": {},
   "outputs": [
    {
     "ename": "NameError",
     "evalue": "name 'lots_of_noise' is not defined",
     "output_type": "error",
     "traceback": [
      "\u001b[0;31m---------------------------------------------------------------------------\u001b[0m",
      "\u001b[0;31mNameError\u001b[0m                                 Traceback (most recent call last)",
      "\u001b[0;32m<ipython-input-9-69f22b4d5ca8>\u001b[0m in \u001b[0;36m<module>\u001b[0;34m\u001b[0m\n\u001b[0;32m----> 1\u001b[0;31m \u001b[0mprint\u001b[0m\u001b[0;34m(\u001b[0m\u001b[0mlots_of_noise\u001b[0m\u001b[0;34m)\u001b[0m\u001b[0;34m\u001b[0m\u001b[0;34m\u001b[0m\u001b[0m\n\u001b[0m",
      "\u001b[0;31mNameError\u001b[0m: name 'lots_of_noise' is not defined"
     ]
    }
   ],
   "source": [
    "print(lots_of_noise)"
   ]
  },
  {
   "cell_type": "markdown",
   "metadata": {},
   "source": [
    "Lovely. It's dead forever. Or is it?\n",
    "\n",
    "Let's open that `noise.pickle` file with read-binary (`rb`) mode. Then we'll ask pickle to retrieve the file with `pickle.load` and store it back in a variable."
   ]
  },
  {
   "cell_type": "code",
   "execution_count": 10,
   "metadata": {},
   "outputs": [],
   "source": [
    "with open('noise.pickle','rb') as read_file:\n",
    "    new_noise = pickle.load(read_file)"
   ]
  },
  {
   "cell_type": "code",
   "execution_count": 11,
   "metadata": {},
   "outputs": [
    {
     "name": "stdout",
     "output_type": "stream",
     "text": [
      "{'CA': [52, 50, 58, 33, 17, 60, 6, 1, 45, 23, 30, 21, 10, 0, 26, 14, 39, 17, 63, 2, 15, 42, 31, 13, 0, 43, 35, 63, 23, 20, 22, 12, 16, 11, 11, 27, 61, 24, 38, 40, 16, 20, 14, 24, 24, 32, 10, 59, 3, 46, 3, 62, 23, 34, 65, 38, 49, 45, 7, 33, 0, 62, 2, 23, 43, 50, 19, 45, 5, 25, 14, 52, 35, 2, 8, 23, 20, 51, 14, 59, 15, 61, 16, 60, 64, 23, 1, 27, 59, 35, 6, 15, 41, 53, 27, 33, 3, 60, 40, 26], 'IL': [25, 24, 45, 18, 58, 4, 18, 1, 16, 17, 12, 20, 19, 57, 60, 13, 62, 33, 13, 62, 64, 59, 58, 10, 4, 56, 62, 6, 1, 62, 9, 41, 25, 6, 56, 28, 32, 46, 25, 7, 24, 24, 6, 53, 12, 64, 49, 40, 9, 38], 'NY': [45, 19, 23, 46, 6, 30, 64, 51, 62, 36, 31, 23, 49, 20, 11, 39, 36, 39, 46, 37, 37, 18, 44, 8, 47, 22, 2, 31, 49, 29, 63, 50, 21, 65, 49, 42, 39, 56, 50, 33, 28, 21, 1, 37, 23, 12, 28, 37, 45, 56, 22, 25, 56, 18, 21, 21, 15, 33, 17, 30, 23, 61, 40, 9, 45, 12, 46, 6, 7, 23, 57, 34, 61, 25, 2, 53, 65, 65, 10, 31, 8, 55, 17, 55, 23, 38, 41, 3, 49, 35], 'WA': [1, 14, 45, 63, 57, 36, 35, 56, 17, 47, 57, 49, 44, 45, 27, 14, 8, 7, 3, 32, 48, 28, 43, 47, 0, 24, 19, 2, 16, 5, 62, 56, 38]}\n"
     ]
    }
   ],
   "source": [
    "print(new_noise)"
   ]
  },
  {
   "cell_type": "code",
   "execution_count": 12,
   "metadata": {},
   "outputs": [
    {
     "name": "stdout",
     "output_type": "stream",
     "text": [
      "Variable    Type              Data/Info\n",
      "---------------------------------------\n",
      "new_noise   dict              n=4\n",
      "pickle      module            <module 'pickle' from '/U<...>lib/python3.7/pickle.py'>\n",
      "random      module            <module 'random' from '/U<...>lib/python3.7/random.py'>\n",
      "read_file   BufferedReader    <_io.BufferedReader name='noise.pickle'>\n",
      "to_write    BufferedWriter    <_io.BufferedWriter name='noise.pickle'>\n"
     ]
    }
   ],
   "source": [
    "whos"
   ]
  },
  {
   "cell_type": "markdown",
   "metadata": {},
   "source": [
    "Random noise lives! We retrieved the entire structure from file. Nice."
   ]
  },
  {
   "cell_type": "markdown",
   "metadata": {},
   "source": [
    "### Okay, but I don't use dictionaries... I use pandas."
   ]
  },
  {
   "cell_type": "code",
   "execution_count": 13,
   "metadata": {},
   "outputs": [
    {
     "data": {
      "text/html": [
       "<div>\n",
       "<style scoped>\n",
       "    .dataframe tbody tr th:only-of-type {\n",
       "        vertical-align: middle;\n",
       "    }\n",
       "\n",
       "    .dataframe tbody tr th {\n",
       "        vertical-align: top;\n",
       "    }\n",
       "\n",
       "    .dataframe thead th {\n",
       "        text-align: right;\n",
       "    }\n",
       "</style>\n",
       "<table border=\"1\" class=\"dataframe\">\n",
       "  <thead>\n",
       "    <tr style=\"text-align: right;\">\n",
       "      <th></th>\n",
       "      <th>Yay</th>\n",
       "      <th>specific</th>\n",
       "      <th>column</th>\n",
       "      <th>names</th>\n",
       "    </tr>\n",
       "  </thead>\n",
       "  <tbody>\n",
       "    <tr>\n",
       "      <th>0</th>\n",
       "      <td>7.464596</td>\n",
       "      <td>1.474656</td>\n",
       "      <td>1.549529</td>\n",
       "      <td>0.634150</td>\n",
       "    </tr>\n",
       "    <tr>\n",
       "      <th>1</th>\n",
       "      <td>5.400920</td>\n",
       "      <td>1.859465</td>\n",
       "      <td>-9.990665</td>\n",
       "      <td>7.191180</td>\n",
       "    </tr>\n",
       "    <tr>\n",
       "      <th>2</th>\n",
       "      <td>2.039169</td>\n",
       "      <td>8.407128</td>\n",
       "      <td>-1.753109</td>\n",
       "      <td>9.423063</td>\n",
       "    </tr>\n",
       "    <tr>\n",
       "      <th>3</th>\n",
       "      <td>8.746026</td>\n",
       "      <td>1.017119</td>\n",
       "      <td>-1.794484</td>\n",
       "      <td>-4.158144</td>\n",
       "    </tr>\n",
       "    <tr>\n",
       "      <th>4</th>\n",
       "      <td>6.077588</td>\n",
       "      <td>-1.294456</td>\n",
       "      <td>7.969286</td>\n",
       "      <td>-9.078903</td>\n",
       "    </tr>\n",
       "  </tbody>\n",
       "</table>\n",
       "</div>"
      ],
      "text/plain": [
       "        Yay  specific    column     names\n",
       "0  7.464596  1.474656  1.549529  0.634150\n",
       "1  5.400920  1.859465 -9.990665  7.191180\n",
       "2  2.039169  8.407128 -1.753109  9.423063\n",
       "3  8.746026  1.017119 -1.794484 -4.158144\n",
       "4  6.077588 -1.294456  7.969286 -9.078903"
      ]
     },
     "execution_count": 13,
     "metadata": {},
     "output_type": "execute_result"
    }
   ],
   "source": [
    "import pandas as pd\n",
    "import numpy as np\n",
    "\n",
    "df = pd.DataFrame(np.random.uniform(-10,10, size=(100,4)), columns=['Yay','specific','column','names'])\n",
    "df.head(5)"
   ]
  },
  {
   "cell_type": "code",
   "execution_count": 14,
   "metadata": {},
   "outputs": [],
   "source": [
    "with open('my_dataframe.pickle', 'wb') as to_write:\n",
    "    pickle.dump(df, to_write)"
   ]
  },
  {
   "cell_type": "code",
   "execution_count": 15,
   "metadata": {},
   "outputs": [
    {
     "ename": "NameError",
     "evalue": "name 'df' is not defined",
     "output_type": "error",
     "traceback": [
      "\u001b[0;31m---------------------------------------------------------------------------\u001b[0m",
      "\u001b[0;31mNameError\u001b[0m                                 Traceback (most recent call last)",
      "\u001b[0;32m<ipython-input-15-3975f6306adf>\u001b[0m in \u001b[0;36m<module>\u001b[0;34m\u001b[0m\n\u001b[1;32m      1\u001b[0m \u001b[0;32mdel\u001b[0m \u001b[0mdf\u001b[0m\u001b[0;34m\u001b[0m\u001b[0;34m\u001b[0m\u001b[0m\n\u001b[1;32m      2\u001b[0m \u001b[0;34m\u001b[0m\u001b[0m\n\u001b[0;32m----> 3\u001b[0;31m \u001b[0mdf\u001b[0m\u001b[0;34m.\u001b[0m\u001b[0mhead\u001b[0m\u001b[0;34m(\u001b[0m\u001b[0;36m5\u001b[0m\u001b[0;34m)\u001b[0m\u001b[0;34m\u001b[0m\u001b[0;34m\u001b[0m\u001b[0m\n\u001b[0m",
      "\u001b[0;31mNameError\u001b[0m: name 'df' is not defined"
     ]
    }
   ],
   "source": [
    "del df\n",
    "\n",
    "df.head(5)"
   ]
  },
  {
   "cell_type": "code",
   "execution_count": 16,
   "metadata": {},
   "outputs": [
    {
     "data": {
      "text/html": [
       "<div>\n",
       "<style scoped>\n",
       "    .dataframe tbody tr th:only-of-type {\n",
       "        vertical-align: middle;\n",
       "    }\n",
       "\n",
       "    .dataframe tbody tr th {\n",
       "        vertical-align: top;\n",
       "    }\n",
       "\n",
       "    .dataframe thead th {\n",
       "        text-align: right;\n",
       "    }\n",
       "</style>\n",
       "<table border=\"1\" class=\"dataframe\">\n",
       "  <thead>\n",
       "    <tr style=\"text-align: right;\">\n",
       "      <th></th>\n",
       "      <th>Yay</th>\n",
       "      <th>specific</th>\n",
       "      <th>column</th>\n",
       "      <th>names</th>\n",
       "    </tr>\n",
       "  </thead>\n",
       "  <tbody>\n",
       "    <tr>\n",
       "      <th>0</th>\n",
       "      <td>7.464596</td>\n",
       "      <td>1.474656</td>\n",
       "      <td>1.549529</td>\n",
       "      <td>0.634150</td>\n",
       "    </tr>\n",
       "    <tr>\n",
       "      <th>1</th>\n",
       "      <td>5.400920</td>\n",
       "      <td>1.859465</td>\n",
       "      <td>-9.990665</td>\n",
       "      <td>7.191180</td>\n",
       "    </tr>\n",
       "    <tr>\n",
       "      <th>2</th>\n",
       "      <td>2.039169</td>\n",
       "      <td>8.407128</td>\n",
       "      <td>-1.753109</td>\n",
       "      <td>9.423063</td>\n",
       "    </tr>\n",
       "    <tr>\n",
       "      <th>3</th>\n",
       "      <td>8.746026</td>\n",
       "      <td>1.017119</td>\n",
       "      <td>-1.794484</td>\n",
       "      <td>-4.158144</td>\n",
       "    </tr>\n",
       "    <tr>\n",
       "      <th>4</th>\n",
       "      <td>6.077588</td>\n",
       "      <td>-1.294456</td>\n",
       "      <td>7.969286</td>\n",
       "      <td>-9.078903</td>\n",
       "    </tr>\n",
       "  </tbody>\n",
       "</table>\n",
       "</div>"
      ],
      "text/plain": [
       "        Yay  specific    column     names\n",
       "0  7.464596  1.474656  1.549529  0.634150\n",
       "1  5.400920  1.859465 -9.990665  7.191180\n",
       "2  2.039169  8.407128 -1.753109  9.423063\n",
       "3  8.746026  1.017119 -1.794484 -4.158144\n",
       "4  6.077588 -1.294456  7.969286 -9.078903"
      ]
     },
     "execution_count": 16,
     "metadata": {},
     "output_type": "execute_result"
    }
   ],
   "source": [
    "with open('my_dataframe.pickle','rb') as read_file:\n",
    "    new_df = pickle.load(read_file)\n",
    "    \n",
    "new_df.head(5)"
   ]
  },
  {
   "cell_type": "markdown",
   "metadata": {},
   "source": [
    "Pickle is a great tool. One recommended way of using it is to make it an end point of every step in your process. Example:\n",
    "\n",
    "* I got my data! Nice. Pickle it and stop your \"getting the data\" notebook.\n",
    "* Load your data from pickle. Clean it. Save your clean data to a new pickle.\n",
    "* Load your cleaned_data pickle. Do analysis and visualize it.\n",
    "\n",
    "This can provide natural \"pick-up-where-I-left-off-but-before-I-broke-my-data\" points. It's a great way to control the flow of your data.\n",
    "\n",
    "#### Resources\n",
    "\n",
    "https://docs.python.org/3.7/library/pickle.html"
   ]
  }
 ],
 "metadata": {
  "kernelspec": {
   "display_name": "Python 3",
   "language": "python",
   "name": "python3"
  },
  "language_info": {
   "codemirror_mode": {
    "name": "ipython",
    "version": 3
   },
   "file_extension": ".py",
   "mimetype": "text/x-python",
   "name": "python",
   "nbconvert_exporter": "python",
   "pygments_lexer": "ipython3",
   "version": "3.7.7"
  }
 },
 "nbformat": 4,
 "nbformat_minor": 1
}
